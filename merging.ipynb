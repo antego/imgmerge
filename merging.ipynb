{
 "cells": [
  {
   "cell_type": "code",
   "execution_count": 20,
   "metadata": {
    "collapsed": false
   },
   "outputs": [
    {
     "name": "stdout",
     "output_type": "stream",
     "text": [
      "keypoints: 108, descriptors: (108, 61)\n",
      "keypoints: 638, descriptors: (638, 61)\n"
     ]
    }
   ],
   "source": [
    "import numpy as np\n",
    "import cv2\n",
    "from matplotlib import pyplot as plt\n",
    "\n",
    "# load the image and convert it to grayscale\n",
    "im1 = cv2.imread('tep2.jpg')\n",
    "im2 = cv2.imread('cam2.jpg')\n",
    "gray1 = cv2.cvtColor(im1, cv2.COLOR_BGR2GRAY)\n",
    "gray2 = cv2.cvtColor(im2, cv2.COLOR_BGR2GRAY)    \n",
    "\n",
    "# initialize the AKAZE descriptor, then detect keypoints and extract\n",
    "# local invariant descriptors from the image\n",
    "detector = cv2.AKAZE_create()\n",
    "(kps1, descs1) = detector.detectAndCompute(gray1, None)\n",
    "(kps2, descs2) = detector.detectAndCompute(gray2, None)\n",
    "\n",
    "print(\"keypoints: {}, descriptors: {}\".format(len(kps1), descs1.shape))\n",
    "print(\"keypoints: {}, descriptors: {}\".format(len(kps2), descs2.shape))    \n",
    "\n",
    "# Match the features\n",
    "bf = cv2.BFMatcher(cv2.NORM_HAMMING)\n",
    "matches = bf.knnMatch(descs1,descs1, k=2)\n",
    "\n",
    "FLANN_INDEX_KDTREE = 0\n",
    "index_params = dict(algorithm = FLANN_INDEX_KDTREE, trees = 5)\n",
    "search_params = dict(checks = 50)\n",
    "flann = cv2.FlannBasedMatcher(index_params, search_params)\n",
    "# matches = flann.knnMatch(descs1,descs2,k=2)\n",
    "\n",
    "# Apply ratio test\n",
    "good = []\n",
    "for m,n in matches:\n",
    "    if m.distance < 0.9*n.distance:\n",
    "        good.append([m])\n",
    "        \n",
    "\n",
    "\n",
    "# cv2.drawMatchesKnn expects list of lists as matches.\n",
    "im3 = cv2.drawMatchesKnn(im1, kps1, im2, kps2, good[1:20], None, flags=2)\n",
    "plt.imshow(im3, 'gray')\n",
    "plt.show()"
   ]
  },
  {
   "cell_type": "code",
   "execution_count": 16,
   "metadata": {
    "collapsed": false
   },
   "outputs": [
    {
     "data": {
      "text/plain": [
       "(<matplotlib.image.AxesImage at 0x7fa600419588>, None)"
      ]
     },
     "execution_count": 16,
     "metadata": {},
     "output_type": "execute_result"
    }
   ],
   "source": [
    "MIN_MATCH_COUNT = 10\n",
    "\n",
    "if len(good) > MIN_MATCH_COUNT:\n",
    "    src_pts = np.float32([ kps1[m[0].queryIdx].pt for m in good ]).reshape(-1,1,2)\n",
    "    dst_pts = np.float32([ kps2[m[0].trainIdx].pt for m in good ]).reshape(-1,1,2)\n",
    "\n",
    "    M, mask = cv2.findHomography(src_pts, dst_pts, cv2.RANSAC, 5.0)\n",
    "    matchesMask = mask.ravel().tolist()\n",
    "\n",
    "    h,w = img1.shape\n",
    "    pts = np.float32([ [0,0],[0,h-1],[w-1,h-1],[w-1,0] ]).reshape(-1,1,2)\n",
    "    dst = cv2.perspectiveTransform(pts,M)\n",
    "\n",
    "    im2 = cv2.polylines(img2, [np.int32(dst)], True, 255, 3, cv2.LINE_AA)\n",
    "\n",
    "else:\n",
    "    print(\"Not enough matches are found - %d/%d\", len(good), MIN_MATCH_COUNT)\n",
    "    matchesMask = None\n",
    "    \n",
    "plt.imshow(im2, 'gray')\n",
    "plt.show()"
   ]
  },
  {
   "cell_type": "code",
   "execution_count": null,
   "metadata": {
    "collapsed": true
   },
   "outputs": [],
   "source": []
  }
 ],
 "metadata": {
  "kernelspec": {
   "display_name": "Python 3",
   "language": "python",
   "name": "python3"
  },
  "language_info": {
   "codemirror_mode": {
    "name": "ipython",
    "version": 3
   },
   "file_extension": ".py",
   "mimetype": "text/x-python",
   "name": "python",
   "nbconvert_exporter": "python",
   "pygments_lexer": "ipython3",
   "version": "3.5.2"
  }
 },
 "nbformat": 4,
 "nbformat_minor": 0
}
